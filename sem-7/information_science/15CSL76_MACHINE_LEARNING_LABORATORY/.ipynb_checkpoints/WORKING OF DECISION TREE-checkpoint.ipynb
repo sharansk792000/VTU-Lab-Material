{
 "cells": [
  {
   "cell_type": "code",
   "execution_count": 1,
   "metadata": {
    "collapsed": true
   },
   "outputs": [],
   "source": [
    "def infoGain(P, N):  #Calculate Information gain or Class entropy\n",
    "    import math\n",
    "    return -P / (P + N) * math.log2(P /(P + N)) - N / (P + N) * math.log2(N /(P + N))"
   ]
  },
  {
   "cell_type": "code",
   "execution_count": 2,
   "metadata": {
    "collapsed": true
   },
   "outputs": [],
   "source": [
    "import pandas as pd\n",
    "from pandas import DataFrame\n",
    "import math\n",
    "data = DataFrame.from_csv('play.csv')  #Read CSV\n",
    "AttributeList = list(data)[:-1]  #Get Attribute List\n",
    "concept = str(list(data)[-1])  #Get concept list\n",
    "conceptVals = list(set(data[concept]))  #Get Concept values"
   ]
  },
  {
   "cell_type": "code",
   "execution_count": 3,
   "metadata": {},
   "outputs": [
    {
     "data": {
      "text/html": [
       "<div>\n",
       "<style>\n",
       "    .dataframe thead tr:only-child th {\n",
       "        text-align: right;\n",
       "    }\n",
       "\n",
       "    .dataframe thead th {\n",
       "        text-align: left;\n",
       "    }\n",
       "\n",
       "    .dataframe tbody tr th {\n",
       "        vertical-align: top;\n",
       "    }\n",
       "</style>\n",
       "<table border=\"1\" class=\"dataframe\">\n",
       "  <thead>\n",
       "    <tr style=\"text-align: right;\">\n",
       "      <th></th>\n",
       "      <th>Outlook</th>\n",
       "      <th>Temperature</th>\n",
       "      <th>Humidity</th>\n",
       "      <th>Wind</th>\n",
       "      <th>PlayTennis</th>\n",
       "    </tr>\n",
       "    <tr>\n",
       "      <th>slno</th>\n",
       "      <th></th>\n",
       "      <th></th>\n",
       "      <th></th>\n",
       "      <th></th>\n",
       "      <th></th>\n",
       "    </tr>\n",
       "  </thead>\n",
       "  <tbody>\n",
       "    <tr>\n",
       "      <th>0</th>\n",
       "      <td>Sunny</td>\n",
       "      <td>Hot</td>\n",
       "      <td>High</td>\n",
       "      <td>Weak</td>\n",
       "      <td>No</td>\n",
       "    </tr>\n",
       "    <tr>\n",
       "      <th>1</th>\n",
       "      <td>Sunny</td>\n",
       "      <td>Hot</td>\n",
       "      <td>High</td>\n",
       "      <td>Strong</td>\n",
       "      <td>No</td>\n",
       "    </tr>\n",
       "    <tr>\n",
       "      <th>2</th>\n",
       "      <td>Overcast</td>\n",
       "      <td>Hot</td>\n",
       "      <td>High</td>\n",
       "      <td>Weak</td>\n",
       "      <td>Yes</td>\n",
       "    </tr>\n",
       "    <tr>\n",
       "      <th>3</th>\n",
       "      <td>Rain</td>\n",
       "      <td>Mild</td>\n",
       "      <td>High</td>\n",
       "      <td>Weak</td>\n",
       "      <td>Yes</td>\n",
       "    </tr>\n",
       "    <tr>\n",
       "      <th>4</th>\n",
       "      <td>Rain</td>\n",
       "      <td>Cool</td>\n",
       "      <td>Normal</td>\n",
       "      <td>Weak</td>\n",
       "      <td>Yes</td>\n",
       "    </tr>\n",
       "    <tr>\n",
       "      <th>5</th>\n",
       "      <td>Rain</td>\n",
       "      <td>Cool</td>\n",
       "      <td>Normal</td>\n",
       "      <td>Strong</td>\n",
       "      <td>No</td>\n",
       "    </tr>\n",
       "    <tr>\n",
       "      <th>6</th>\n",
       "      <td>Overcast</td>\n",
       "      <td>Cool</td>\n",
       "      <td>Normal</td>\n",
       "      <td>Strong</td>\n",
       "      <td>Yes</td>\n",
       "    </tr>\n",
       "    <tr>\n",
       "      <th>7</th>\n",
       "      <td>Sunny</td>\n",
       "      <td>Mild</td>\n",
       "      <td>High</td>\n",
       "      <td>Weak</td>\n",
       "      <td>No</td>\n",
       "    </tr>\n",
       "    <tr>\n",
       "      <th>8</th>\n",
       "      <td>Sunny</td>\n",
       "      <td>Cool</td>\n",
       "      <td>Normal</td>\n",
       "      <td>Weak</td>\n",
       "      <td>Yes</td>\n",
       "    </tr>\n",
       "    <tr>\n",
       "      <th>9</th>\n",
       "      <td>Rain</td>\n",
       "      <td>Mild</td>\n",
       "      <td>Normal</td>\n",
       "      <td>Weak</td>\n",
       "      <td>Yes</td>\n",
       "    </tr>\n",
       "    <tr>\n",
       "      <th>10</th>\n",
       "      <td>Sunny</td>\n",
       "      <td>Mild</td>\n",
       "      <td>Normal</td>\n",
       "      <td>Strong</td>\n",
       "      <td>Yes</td>\n",
       "    </tr>\n",
       "    <tr>\n",
       "      <th>11</th>\n",
       "      <td>Overcast</td>\n",
       "      <td>Mild</td>\n",
       "      <td>High</td>\n",
       "      <td>Strong</td>\n",
       "      <td>Yes</td>\n",
       "    </tr>\n",
       "    <tr>\n",
       "      <th>12</th>\n",
       "      <td>Overcast</td>\n",
       "      <td>Hot</td>\n",
       "      <td>Normal</td>\n",
       "      <td>Weak</td>\n",
       "      <td>Yes</td>\n",
       "    </tr>\n",
       "    <tr>\n",
       "      <th>13</th>\n",
       "      <td>Rain</td>\n",
       "      <td>Mild</td>\n",
       "      <td>High</td>\n",
       "      <td>Strong</td>\n",
       "      <td>No</td>\n",
       "    </tr>\n",
       "  </tbody>\n",
       "</table>\n",
       "</div>"
      ],
      "text/plain": [
       "       Outlook Temperature Humidity    Wind PlayTennis\n",
       "slno                                                  \n",
       "0        Sunny         Hot     High    Weak         No\n",
       "1        Sunny         Hot     High  Strong         No\n",
       "2     Overcast         Hot     High    Weak        Yes\n",
       "3         Rain        Mild     High    Weak        Yes\n",
       "4         Rain        Cool   Normal    Weak        Yes\n",
       "5         Rain        Cool   Normal  Strong         No\n",
       "6     Overcast        Cool   Normal  Strong        Yes\n",
       "7        Sunny        Mild     High    Weak         No\n",
       "8        Sunny        Cool   Normal    Weak        Yes\n",
       "9         Rain        Mild   Normal    Weak        Yes\n",
       "10       Sunny        Mild   Normal  Strong        Yes\n",
       "11    Overcast        Mild     High  Strong        Yes\n",
       "12    Overcast         Hot   Normal    Weak        Yes\n",
       "13        Rain        Mild     High  Strong         No"
      ]
     },
     "execution_count": 3,
     "metadata": {},
     "output_type": "execute_result"
    }
   ],
   "source": [
    "data"
   ]
  },
  {
   "cell_type": "code",
   "execution_count": 4,
   "metadata": {},
   "outputs": [
    {
     "data": {
      "text/plain": [
       "['Outlook', 'Temperature', 'Humidity', 'Wind']"
      ]
     },
     "execution_count": 4,
     "metadata": {},
     "output_type": "execute_result"
    }
   ],
   "source": [
    "AttributeList"
   ]
  },
  {
   "cell_type": "code",
   "execution_count": 5,
   "metadata": {
    "collapsed": true
   },
   "outputs": [],
   "source": [
    "concept = str(list(data)[-1])  #Get concept list"
   ]
  },
  {
   "cell_type": "code",
   "execution_count": 6,
   "metadata": {},
   "outputs": [
    {
     "data": {
      "text/plain": [
       "['No', 'Yes']"
      ]
     },
     "execution_count": 6,
     "metadata": {},
     "output_type": "execute_result"
    }
   ],
   "source": [
    "conceptVals"
   ]
  },
  {
   "cell_type": "code",
   "execution_count": 7,
   "metadata": {
    "collapsed": true
   },
   "outputs": [],
   "source": [
    " Total = data.shape[0]"
   ]
  },
  {
   "cell_type": "code",
   "execution_count": 8,
   "metadata": {},
   "outputs": [
    {
     "data": {
      "text/plain": [
       "14"
      ]
     },
     "execution_count": 8,
     "metadata": {},
     "output_type": "execute_result"
    }
   ],
   "source": [
    "Total"
   ]
  },
  {
   "cell_type": "code",
   "execution_count": 9,
   "metadata": {
    "collapsed": true
   },
   "outputs": [],
   "source": [
    "if Total == 0: #If Attibutes are empty, then return current value of tree\n",
    "    tree={'root':'None'}"
   ]
  },
  {
   "cell_type": "code",
   "execution_count": 10,
   "metadata": {
    "collapsed": true
   },
   "outputs": [],
   "source": [
    "countC = {}"
   ]
  },
  {
   "cell_type": "code",
   "execution_count": 11,
   "metadata": {
    "collapsed": true
   },
   "outputs": [],
   "source": [
    "for cVal in conceptVals:   #If Example is positive then return positive and If negative then return negative\n",
    "        dataCC = data[data[concept] == cVal]   #seperate the examples based on class values (yes and no)\n",
    "        countC[cVal] = dataCC.shape[0]         #Get the count of data for each class"
   ]
  },
  {
   "cell_type": "code",
   "execution_count": 12,
   "metadata": {},
   "outputs": [
    {
     "data": {
      "text/plain": [
       "{'No': 5, 'Yes': 9}"
      ]
     },
     "execution_count": 12,
     "metadata": {},
     "output_type": "execute_result"
    }
   ],
   "source": [
    "countC"
   ]
  },
  {
   "cell_type": "code",
   "execution_count": 13,
   "metadata": {
    "collapsed": true
   },
   "outputs": [],
   "source": [
    "def insertConcept(tree, addTo, Node):\n",
    "    for key, value in tree.items(): #Traversal of tree\n",
    "        if isinstance(value, dict):#check if the value at tree position is a dictionary\n",
    "            tree[key] = insertConcept(value, addTo, Node)\n",
    "    if addTo in tree:    #If d is found then add Node\n",
    "        tree[addTo] = Node\n",
    "    return tree"
   ]
  },
  {
   "cell_type": "code",
   "execution_count": 14,
   "metadata": {
    "collapsed": true
   },
   "outputs": [],
   "source": [
    "def insertNode(tree, addTo, Node):\n",
    "    for key, value in tree.items(): #Traversal of tree\n",
    "        if isinstance(value, dict):\n",
    "            tree[key] = insertNode(value, addTo, Node)\n",
    "    if addTo in tree:    #If d is found then add Node\n",
    "        if isinstance(tree[addTo], dict):\n",
    "            tree[addTo][Node] = 'None'\n",
    "        else:\n",
    "            tree[addTo] = {Node:'None'} \n",
    "    return tree"
   ]
  },
  {
   "cell_type": "code",
   "execution_count": 15,
   "metadata": {
    "collapsed": true
   },
   "outputs": [],
   "source": [
    "tree={'root':'None'}\n",
    "addTo='root'"
   ]
  },
  {
   "cell_type": "code",
   "execution_count": 16,
   "metadata": {
    "collapsed": true
   },
   "outputs": [],
   "source": [
    "if countC[conceptVals[0]] == 0: #If all examples are Positive(Not Negative), return single node Positive\n",
    "       tree= insertConcept(tree, addTo, conceptVals[1])"
   ]
  },
  {
   "cell_type": "code",
   "execution_count": 17,
   "metadata": {
    "collapsed": true
   },
   "outputs": [],
   "source": [
    "if countC[conceptVals[1]] == 0: #If all examples are Negative (Not Positive), return single node Negative\n",
    "        tree = insertConcept(tree, addTo, conceptVals[0])"
   ]
  },
  {
   "cell_type": "code",
   "execution_count": 18,
   "metadata": {},
   "outputs": [
    {
     "data": {
      "text/plain": [
       "{'root': 'None'}"
      ]
     },
     "execution_count": 18,
     "metadata": {},
     "output_type": "execute_result"
    }
   ],
   "source": [
    "tree"
   ]
  },
  {
   "cell_type": "code",
   "execution_count": 19,
   "metadata": {
    "collapsed": true
   },
   "outputs": [],
   "source": [
    "P=countC[conceptVals[0]]\n",
    "N=countC[conceptVals[1]]"
   ]
  },
  {
   "cell_type": "code",
   "execution_count": 20,
   "metadata": {
    "collapsed": true
   },
   "outputs": [],
   "source": [
    "ClassEntropy=infoGain(P,N)"
   ]
  },
  {
   "cell_type": "code",
   "execution_count": 21,
   "metadata": {},
   "outputs": [
    {
     "data": {
      "text/plain": [
       "0.9402859586706311"
      ]
     },
     "execution_count": 21,
     "metadata": {},
     "output_type": "execute_result"
    }
   ],
   "source": [
    "ClassEntropy"
   ]
  },
  {
   "cell_type": "code",
   "execution_count": 180,
   "metadata": {},
   "outputs": [
    {
     "name": "stdout",
     "output_type": "stream",
     "text": [
      "['Overcast', 'Rain', 'Sunny']\n",
      "['Mild', 'Cool', 'Hot']\n",
      "['Normal', 'High']\n",
      "['Weak', 'Strong']\n"
     ]
    }
   ],
   "source": [
    "Attr = {} #Attribute dict holding list of possible values\n",
    "for a in AttributeList:\n",
    "    Attr[a] = list(set(data[a]))\n",
    "    print(Attr[a])"
   ]
  },
  {
   "cell_type": "code",
   "execution_count": 181,
   "metadata": {
    "collapsed": true
   },
   "outputs": [],
   "source": [
    "AttrCount = {}    #Get the attribute values being positive and negative\n",
    "EntropyAttr = {}  "
   ]
  },
  {
   "cell_type": "code",
   "execution_count": 182,
   "metadata": {},
   "outputs": [
    {
     "name": "stdout",
     "output_type": "stream",
     "text": [
      "{'Outlook': ['Overcast', 'Rain', 'Sunny'], 'Temperature': ['Mild', 'Cool', 'Hot'], 'Humidity': ['Normal', 'High'], 'Wind': ['Weak', 'Strong']}\n"
     ]
    }
   ],
   "source": [
    "print(Attr)"
   ]
  },
  {
   "cell_type": "code",
   "execution_count": 183,
   "metadata": {
    "scrolled": false
   },
   "outputs": [
    {
     "name": "stdout",
     "output_type": "stream",
     "text": [
      "Outlook\n",
      "Overcast\n",
      "Yes\n",
      "       Outlook Temperature Humidity    Wind PlayTennis\n",
      "slno                                                  \n",
      "2     Overcast         Hot     High    Weak        Yes\n",
      "6     Overcast        Cool   Normal  Strong        Yes\n",
      "11    Overcast        Mild     High  Strong        Yes\n",
      "12    Overcast         Hot   Normal    Weak        Yes\n",
      "No\n",
      "Empty DataFrame\n",
      "Columns: [Outlook, Temperature, Humidity, Wind, PlayTennis]\n",
      "Index: []\n",
      "Rain\n",
      "Yes\n",
      "     Outlook Temperature Humidity  Wind PlayTennis\n",
      "slno                                              \n",
      "3       Rain        Mild     High  Weak        Yes\n",
      "4       Rain        Cool   Normal  Weak        Yes\n",
      "9       Rain        Mild   Normal  Weak        Yes\n",
      "No\n",
      "     Outlook Temperature Humidity    Wind PlayTennis\n",
      "slno                                                \n",
      "5       Rain        Cool   Normal  Strong         No\n",
      "13      Rain        Mild     High  Strong         No\n",
      "Sunny\n",
      "Yes\n",
      "     Outlook Temperature Humidity    Wind PlayTennis\n",
      "slno                                                \n",
      "8      Sunny        Cool   Normal    Weak        Yes\n",
      "10     Sunny        Mild   Normal  Strong        Yes\n",
      "No\n",
      "     Outlook Temperature Humidity    Wind PlayTennis\n",
      "slno                                                \n",
      "0      Sunny         Hot     High    Weak         No\n",
      "1      Sunny         Hot     High  Strong         No\n",
      "7      Sunny        Mild     High    Weak         No\n",
      "Temperature\n",
      "Mild\n",
      "Yes\n",
      "       Outlook Temperature Humidity    Wind PlayTennis\n",
      "slno                                                  \n",
      "3         Rain        Mild     High    Weak        Yes\n",
      "9         Rain        Mild   Normal    Weak        Yes\n",
      "10       Sunny        Mild   Normal  Strong        Yes\n",
      "11    Overcast        Mild     High  Strong        Yes\n",
      "No\n",
      "     Outlook Temperature Humidity    Wind PlayTennis\n",
      "slno                                                \n",
      "7      Sunny        Mild     High    Weak         No\n",
      "13      Rain        Mild     High  Strong         No\n",
      "Cool\n",
      "Yes\n",
      "       Outlook Temperature Humidity    Wind PlayTennis\n",
      "slno                                                  \n",
      "4         Rain        Cool   Normal    Weak        Yes\n",
      "6     Overcast        Cool   Normal  Strong        Yes\n",
      "8        Sunny        Cool   Normal    Weak        Yes\n",
      "No\n",
      "     Outlook Temperature Humidity    Wind PlayTennis\n",
      "slno                                                \n",
      "5       Rain        Cool   Normal  Strong         No\n",
      "Hot\n",
      "Yes\n",
      "       Outlook Temperature Humidity  Wind PlayTennis\n",
      "slno                                                \n",
      "2     Overcast         Hot     High  Weak        Yes\n",
      "12    Overcast         Hot   Normal  Weak        Yes\n",
      "No\n",
      "     Outlook Temperature Humidity    Wind PlayTennis\n",
      "slno                                                \n",
      "0      Sunny         Hot     High    Weak         No\n",
      "1      Sunny         Hot     High  Strong         No\n",
      "Humidity\n",
      "Normal\n",
      "Yes\n",
      "       Outlook Temperature Humidity    Wind PlayTennis\n",
      "slno                                                  \n",
      "4         Rain        Cool   Normal    Weak        Yes\n",
      "6     Overcast        Cool   Normal  Strong        Yes\n",
      "8        Sunny        Cool   Normal    Weak        Yes\n",
      "9         Rain        Mild   Normal    Weak        Yes\n",
      "10       Sunny        Mild   Normal  Strong        Yes\n",
      "12    Overcast         Hot   Normal    Weak        Yes\n",
      "No\n",
      "     Outlook Temperature Humidity    Wind PlayTennis\n",
      "slno                                                \n",
      "5       Rain        Cool   Normal  Strong         No\n",
      "High\n",
      "Yes\n",
      "       Outlook Temperature Humidity    Wind PlayTennis\n",
      "slno                                                  \n",
      "2     Overcast         Hot     High    Weak        Yes\n",
      "3         Rain        Mild     High    Weak        Yes\n",
      "11    Overcast        Mild     High  Strong        Yes\n",
      "No\n",
      "     Outlook Temperature Humidity    Wind PlayTennis\n",
      "slno                                                \n",
      "0      Sunny         Hot     High    Weak         No\n",
      "1      Sunny         Hot     High  Strong         No\n",
      "7      Sunny        Mild     High    Weak         No\n",
      "13      Rain        Mild     High  Strong         No\n",
      "Wind\n",
      "Weak\n",
      "Yes\n",
      "       Outlook Temperature Humidity  Wind PlayTennis\n",
      "slno                                                \n",
      "2     Overcast         Hot     High  Weak        Yes\n",
      "3         Rain        Mild     High  Weak        Yes\n",
      "4         Rain        Cool   Normal  Weak        Yes\n",
      "8        Sunny        Cool   Normal  Weak        Yes\n",
      "9         Rain        Mild   Normal  Weak        Yes\n",
      "12    Overcast         Hot   Normal  Weak        Yes\n",
      "No\n",
      "     Outlook Temperature Humidity  Wind PlayTennis\n",
      "slno                                              \n",
      "0      Sunny         Hot     High  Weak         No\n",
      "7      Sunny        Mild     High  Weak         No\n",
      "Strong\n",
      "Yes\n",
      "       Outlook Temperature Humidity    Wind PlayTennis\n",
      "slno                                                  \n",
      "6     Overcast        Cool   Normal  Strong        Yes\n",
      "10       Sunny        Mild   Normal  Strong        Yes\n",
      "11    Overcast        Mild     High  Strong        Yes\n",
      "No\n",
      "     Outlook Temperature Humidity    Wind PlayTennis\n",
      "slno                                                \n",
      "1      Sunny         Hot     High  Strong         No\n",
      "5       Rain        Cool   Normal  Strong         No\n",
      "13      Rain        Mild     High  Strong         No\n"
     ]
    }
   ],
   "source": [
    " for att in Attr:\n",
    "        print(att)\n",
    "        for vals in Attr [att]:\n",
    "            print(vals)\n",
    "            for c in conceptVals:\n",
    "                print(c)\n",
    "                iData = data[data[att] == vals]       #Get data for specific attribute\n",
    "                #print(iData)\n",
    "                dataAtt = iData[iData[concept] == c]  #Get data for specific attribute and concept  \n",
    "                print(dataAtt)\n",
    "                AttrCount[c] = dataAtt.shape[0]  #Get the count of data for specific attribute and concept\n",
    "            TotalInfo = AttrCount[conceptVals[0]] + AttrCount[conceptVals[1]] #Total Attribute \n",
    "            if AttrCount[conceptVals[0]] == 0 or AttrCount[conceptVals[1]] == 0:\n",
    "                InfoGain=0\n",
    "            else:\n",
    "                InfoGain = infoGain(AttrCount[conceptVals[0]], AttrCount[conceptVals[1]]) #Calculate InfoGain for each  attr\n",
    "            \n",
    "            if att not in EntropyAttr:          #Calculate Entropy for each attr\n",
    "                EntropyAttr[att] = ( TotalInfo / Total ) * InfoGain\n",
    "            else:\n",
    "                EntropyAttr[att] = EntropyAttr[att] + ( TotalInfo / Total ) * InfoGain  "
   ]
  },
  {
   "cell_type": "code",
   "execution_count": 184,
   "metadata": {},
   "outputs": [
    {
     "data": {
      "text/plain": [
       "{'Humidity': 0.7884504573082896,\n",
       " 'Outlook': 0.6935361388961918,\n",
       " 'Temperature': 0.9110633930116763,\n",
       " 'Wind': 0.8921589282623617}"
      ]
     },
     "execution_count": 184,
     "metadata": {},
     "output_type": "execute_result"
    }
   ],
   "source": [
    "EntropyAttr"
   ]
  },
  {
   "cell_type": "code",
   "execution_count": 185,
   "metadata": {
    "collapsed": true
   },
   "outputs": [],
   "source": [
    "Gain = {}\n",
    "for g in EntropyAttr:\n",
    "    Gain[g] = ClassEntropy - EntropyAttr[g] #Calculate gain"
   ]
  },
  {
   "cell_type": "code",
   "execution_count": 186,
   "metadata": {},
   "outputs": [
    {
     "data": {
      "text/plain": [
       "{'Humidity': 0.15183550136234159,\n",
       " 'Outlook': 0.24674981977443933,\n",
       " 'Temperature': 0.02922256565895487,\n",
       " 'Wind': 0.04812703040826949}"
      ]
     },
     "execution_count": 186,
     "metadata": {},
     "output_type": "execute_result"
    }
   ],
   "source": [
    "Gain"
   ]
  },
  {
   "cell_type": "code",
   "execution_count": 187,
   "metadata": {
    "collapsed": true
   },
   "outputs": [],
   "source": [
    "Node = max(Gain, key = Gain.get)     #Get root node\n"
   ]
  },
  {
   "cell_type": "code",
   "execution_count": 188,
   "metadata": {},
   "outputs": [
    {
     "data": {
      "text/plain": [
       "'Outlook'"
      ]
     },
     "execution_count": 188,
     "metadata": {},
     "output_type": "execute_result"
    }
   ],
   "source": [
    "Node"
   ]
  },
  {
   "cell_type": "code",
   "execution_count": 189,
   "metadata": {
    "collapsed": true
   },
   "outputs": [],
   "source": [
    "for key, value in tree.items(): #Traversal of tree\n",
    "    if isinstance(value, dict):\n",
    "        tree[key] = insertNode(value, addTo, Node)\n",
    "if addTo in tree:    #If d is found then add Node\n",
    "    if isinstance(tree[addTo], dict):\n",
    "        tree[addTo][Node] = 'None'\n",
    "    else:\n",
    "        tree[addTo] = {Node:'None'}"
   ]
  },
  {
   "cell_type": "code",
   "execution_count": 156,
   "metadata": {},
   "outputs": [
    {
     "data": {
      "text/plain": [
       "{'root': {'Outlook': 'None'}}"
      ]
     },
     "execution_count": 156,
     "metadata": {},
     "output_type": "execute_result"
    }
   ],
   "source": [
    "tree"
   ]
  },
  {
   "cell_type": "code",
   "execution_count": 157,
   "metadata": {},
   "outputs": [
    {
     "data": {
      "text/plain": [
       "['Overcast', 'Rain', 'Sunny']"
      ]
     },
     "execution_count": 157,
     "metadata": {},
     "output_type": "execute_result"
    }
   ],
   "source": [
    "Attr[Node]"
   ]
  },
  {
   "cell_type": "code",
   "execution_count": 190,
   "metadata": {
    "collapsed": true
   },
   "outputs": [],
   "source": [
    "for nD in Attr[Node]:\n",
    "    tree = insertNode(tree, Node, nD)    #Insert Attribute value to tree\n",
    "    newData = data[data[Node] == nD].drop(Node, axis = 1)#Get new data with Attribute value nD and removing rows with column value Node\n",
    "    AttributeList=list(newData)[:-1]   #New Attribute List"
   ]
  },
  {
   "cell_type": "code",
   "execution_count": 191,
   "metadata": {},
   "outputs": [
    {
     "data": {
      "text/plain": [
       "{'root': {'Outlook': {'Overcast': 'None', 'Rain': 'None', 'Sunny': 'None'}}}"
      ]
     },
     "execution_count": 191,
     "metadata": {},
     "output_type": "execute_result"
    }
   ],
   "source": [
    "tree"
   ]
  },
  {
   "cell_type": "code",
   "execution_count": null,
   "metadata": {
    "collapsed": true
   },
   "outputs": [],
   "source": []
  }
 ],
 "metadata": {
  "kernelspec": {
   "display_name": "Python 3",
   "language": "python",
   "name": "python3"
  },
  "language_info": {
   "codemirror_mode": {
    "name": "ipython",
    "version": 3
   },
   "file_extension": ".py",
   "mimetype": "text/x-python",
   "name": "python",
   "nbconvert_exporter": "python",
   "pygments_lexer": "ipython3",
   "version": "3.7.3"
  },
  "latex_envs": {
   "LaTeX_envs_menu_present": true,
   "autoclose": false,
   "autocomplete": true,
   "bibliofile": "biblio.bib",
   "cite_by": "apalike",
   "current_citInitial": 1,
   "eqLabelWithNumbers": true,
   "eqNumInitial": 1,
   "hotkeys": {
    "equation": "Ctrl-E",
    "itemize": "Ctrl-I"
   },
   "labels_anchors": false,
   "latex_user_defs": false,
   "report_style_numbering": false,
   "user_envs_cfg": false
  },
  "toc": {
   "base_numbering": 1,
   "nav_menu": {},
   "number_sections": true,
   "sideBar": true,
   "skip_h1_title": false,
   "title_cell": "Table of Contents",
   "title_sidebar": "Contents",
   "toc_cell": false,
   "toc_position": {},
   "toc_section_display": true,
   "toc_window_display": false
  },
  "varInspector": {
   "cols": {
    "lenName": 16,
    "lenType": 16,
    "lenVar": 40
   },
   "kernels_config": {
    "python": {
     "delete_cmd_postfix": "",
     "delete_cmd_prefix": "del ",
     "library": "var_list.py",
     "varRefreshCmd": "print(var_dic_list())"
    },
    "r": {
     "delete_cmd_postfix": ") ",
     "delete_cmd_prefix": "rm(",
     "library": "var_list.r",
     "varRefreshCmd": "cat(var_dic_list()) "
    }
   },
   "types_to_exclude": [
    "module",
    "function",
    "builtin_function_or_method",
    "instance",
    "_Feature"
   ],
   "window_display": false
  }
 },
 "nbformat": 4,
 "nbformat_minor": 2
}
