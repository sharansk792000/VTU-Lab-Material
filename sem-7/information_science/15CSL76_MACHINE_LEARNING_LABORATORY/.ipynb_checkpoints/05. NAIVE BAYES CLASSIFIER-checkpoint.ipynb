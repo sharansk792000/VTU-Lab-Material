{
 "cells": [
  {
   "cell_type": "code",
   "execution_count": 1,
   "metadata": {
    "ExecuteTime": {
     "end_time": "2019-09-27T06:00:31.107346Z",
     "start_time": "2019-09-27T06:00:31.099661Z"
    }
   },
   "outputs": [],
   "source": [
    "def probAttr(data,attr,val):\n",
    "    Total=data.shape[0]    #Get column length\n",
    "    cnt = len(data[data[attr] == val]) #Count of Attribute [attr] equal to val\n",
    "    return cnt,cnt/Total"
   ]
  },
  {
   "cell_type": "code",
   "execution_count": 2,
   "metadata": {
    "ExecuteTime": {
     "end_time": "2019-09-27T06:00:31.504348Z",
     "start_time": "2019-09-27T06:00:31.494617Z"
    }
   },
   "outputs": [],
   "source": [
    "def train(data,Attr,conceptVals,concept): \n",
    "    conceptProbs = {} #P(A)\n",
    "    countConcept={}\n",
    "    for cVal in conceptVals: #Get probablity and count of Yes and No\n",
    "        countConcept[cVal],conceptProbs[cVal] = probAttr(data,concept,cVal)\n",
    "    \n",
    "    AttrConcept = {} #P(X/A)\n",
    "    probability_list = {} #P(X)\n",
    "    for att in Attr: #Create a tree for attribute\n",
    "        probability_list[att] = {}\n",
    "        AttrConcept[att] = {}\n",
    "        for val in Attr[att]: #Create Tree for Attribute value\n",
    "            AttrConcept[att][val] = {}\n",
    "            a,probability_list[att][val] = probAttr(data,att,val) #Get Probablity for att equal to val\n",
    "            for cVal in conceptVals: #Create Tree to hold yes and no values\n",
    "                dataTemp = data[data[att]==val] #Calculate att equal to val and concept equal to cVal\n",
    "                AttrConcept[att][val][cVal] = len(dataTemp[dataTemp[concept] == cVal])/countConcept[cVal]\n",
    "            \n",
    "    print(\"P(A) : \",conceptProbs,\"\\n\")\n",
    "    print(\"P(X/A) : \",AttrConcept,\"\\n\")\n",
    "    print(\"P(X) : \",probability_list,\"\\n\")\n",
    "    return conceptProbs,AttrConcept,probability_list"
   ]
  },
  {
   "cell_type": "code",
   "execution_count": 3,
   "metadata": {
    "ExecuteTime": {
     "end_time": "2019-09-27T06:00:42.902008Z",
     "start_time": "2019-09-27T06:00:42.875614Z"
    }
   },
   "outputs": [],
   "source": [
    "def test(examples,Attr,concept_list,conceptProbs,AttrConcept,probability_list):\n",
    "    misclassification_count=0\n",
    "    Total = len(examples)    #Get Number of testing set\n",
    "    for ex in examples:\n",
    "        px={}  #Dict to hold final value\n",
    "        for a in Attr:    #Iterrate thorugh the Tree with Attributes (Refer problem to find the tree)\n",
    "            for x in ex:  #Iterrate thorugh the Tree for given example\n",
    "                for c in concept_list:   #Iterrate thorugh the Tree using concepts\n",
    "                    if x in AttrConcept[a]:  #Check if the value of x refering in same sub-tree of P(X/A)\n",
    "                        if c not in px: #If c not in px multiply P(A) with 1st Itteration (for 1st value of x)\n",
    "                            px[c] = conceptProbs[c]*AttrConcept[a][x][c]/probability_list[a][x]\n",
    "                        else:  #multiply px in next Itterations (for next values of x)\n",
    "                            px[c] = px[c]*AttrConcept[a][x][c]/probability_list[a][x]\n",
    "        print(px)\n",
    "        classification = max(px,key=px.get)  #Key of Maximum of px is required Classification\n",
    "        print(\"Classification :\",classification,\"Expected :\",ex[-1])\n",
    "        if(classification!=ex[-1]):\n",
    "            misclassification_count+=1\n",
    "    misclassification_rate=misclassification_count*100/Total\n",
    "    accuracy=100-misclassification_rate\n",
    "    print(\"Misclassification Count={}\".format(misclassification_count))\n",
    "    print(\"Misclassification Rate={}%\".format(misclassification_rate))\n",
    "    print(\"Accuracy={}%\".format(accuracy))"
   ]
  },
  {
   "cell_type": "code",
   "execution_count": 12,
   "metadata": {
    "ExecuteTime": {
     "end_time": "2019-09-27T06:02:57.927656Z",
     "start_time": "2019-09-27T06:02:57.901907Z"
    },
    "scrolled": true
   },
   "outputs": [],
   "source": [
    "def main():\n",
    "    import pandas as pd\n",
    "    data = pd.read_csv('PlayTennis.csv')\n",
    "    data.drop(['Unnamed: 0'], axis=1, inplace=True)\n",
    "    print(data)\n",
    "    concept=str(list(data)[-1])\n",
    "    print(concept)\n",
    "    concept_list = set(data[concept])\n",
    "    print(concept_list)\n",
    "    Attr={}\n",
    "    for a in list(data)[:-1]:    #Get attribute values\n",
    "        Attr[a] = set(data[a])\n",
    "        print(Attr[a])\n",
    "    conceptProbs,AttrConcept,probability_list = train(data,Attr,concept_list,concept)\n",
    "\n",
    "    examples = pd.read_csv('PlayTennis.csv')\n",
    "    #print(examples)\n",
    "    test(examples.values,Attr,concept_list,conceptProbs,AttrConcept,probability_list)"
   ]
  },
  {
   "cell_type": "code",
   "execution_count": 13,
   "metadata": {
    "ExecuteTime": {
     "end_time": "2019-09-27T06:02:58.476850Z",
     "start_time": "2019-09-27T06:02:58.399074Z"
    },
    "scrolled": false
   },
   "outputs": [
    {
     "name": "stdout",
     "output_type": "stream",
     "text": [
      "     Outlook Temperature Humidity    Wind PlayTennis\n",
      "0      Sunny         Hot     High    Weak         No\n",
      "1      Sunny         Hot     High  Strong         No\n",
      "2   Overcast         Hot     High    Weak        Yes\n",
      "3       Rain        Mild     High    Weak        Yes\n",
      "4       Rain        Cool   Normal    Weak        Yes\n",
      "5       Rain        Cool   Normal  Strong         No\n",
      "6   Overcast        Cool   Normal  Strong        Yes\n",
      "7      Sunny        Mild     High    Weak         No\n",
      "8      Sunny        Cool   Normal    Weak        Yes\n",
      "9       Rain        Mild   Normal    Weak        Yes\n",
      "10     Sunny        Mild   Normal  Strong        Yes\n",
      "11  Overcast        Mild     High  Strong        Yes\n",
      "12  Overcast         Hot   Normal    Weak        Yes\n",
      "13      Rain        Mild     High  Strong         No\n",
      "PlayTennis\n",
      "{'No', 'Yes'}\n",
      "{'Overcast', 'Sunny', 'Rain'}\n",
      "{'Mild', 'Cool', 'Hot'}\n",
      "{'Normal', 'High'}\n",
      "{'Strong', 'Weak'}\n",
      "P(A) :  {'No': 0.35714285714285715, 'Yes': 0.6428571428571429} \n",
      "\n",
      "P(X/A) :  {'Outlook': {'Overcast': {'No': 0.0, 'Yes': 0.4444444444444444}, 'Sunny': {'No': 0.6, 'Yes': 0.2222222222222222}, 'Rain': {'No': 0.4, 'Yes': 0.3333333333333333}}, 'Temperature': {'Mild': {'No': 0.4, 'Yes': 0.4444444444444444}, 'Cool': {'No': 0.2, 'Yes': 0.3333333333333333}, 'Hot': {'No': 0.4, 'Yes': 0.2222222222222222}}, 'Humidity': {'Normal': {'No': 0.2, 'Yes': 0.6666666666666666}, 'High': {'No': 0.8, 'Yes': 0.3333333333333333}}, 'Wind': {'Strong': {'No': 0.6, 'Yes': 0.3333333333333333}, 'Weak': {'No': 0.4, 'Yes': 0.6666666666666666}}} \n",
      "\n",
      "P(X) :  {'Outlook': {'Overcast': 0.2857142857142857, 'Sunny': 0.35714285714285715, 'Rain': 0.35714285714285715}, 'Temperature': {'Mild': 0.42857142857142855, 'Cool': 0.2857142857142857, 'Hot': 0.2857142857142857}, 'Humidity': {'Normal': 0.5, 'High': 0.5}, 'Wind': {'Strong': 0.42857142857142855, 'Weak': 0.5714285714285714}} \n",
      "\n",
      "{'No': 0.9408000000000002, 'Yes': 0.2419753086419753}\n",
      "Classification : No Expected : No\n",
      "{'No': 1.8816000000000002, 'Yes': 0.16131687242798354}\n",
      "Classification : No Expected : No\n",
      "{'No': 0.0, 'Yes': 0.6049382716049383}\n",
      "Classification : Yes Expected : Yes\n",
      "{'No': 0.4181333333333335, 'Yes': 0.4839506172839506}\n",
      "Classification : Yes Expected : Yes\n",
      "{'No': 0.07840000000000004, 'Yes': 1.0888888888888888}\n",
      "Classification : Yes Expected : Yes\n",
      "{'No': 0.15680000000000005, 'Yes': 0.7259259259259259}\n",
      "Classification : Yes Expected : No\n",
      "{'No': 0.0, 'Yes': 1.2098765432098766}\n",
      "Classification : Yes Expected : Yes\n",
      "{'No': 0.6272000000000001, 'Yes': 0.3226337448559671}\n",
      "Classification : No Expected : No\n",
      "{'No': 0.11760000000000002, 'Yes': 0.7259259259259256}\n",
      "Classification : Yes Expected : Yes\n",
      "{'No': 0.10453333333333338, 'Yes': 0.9679012345679012}\n",
      "Classification : Yes Expected : Yes\n",
      "{'No': 0.31360000000000005, 'Yes': 0.43017832647462273}\n",
      "Classification : Yes Expected : Yes\n",
      "{'No': 0.0, 'Yes': 0.5377229080932785}\n",
      "Classification : Yes Expected : Yes\n",
      "{'No': 0.0, 'Yes': 1.2098765432098766}\n",
      "Classification : Yes Expected : Yes\n",
      "{'No': 0.8362666666666669, 'Yes': 0.3226337448559671}\n",
      "Classification : No Expected : No\n",
      "Misclassification Count=1\n",
      "Misclassification Rate=7.142857142857143%\n",
      "Accuracy=92.85714285714286%\n"
     ]
    }
   ],
   "source": [
    "main()"
   ]
  },
  {
   "cell_type": "code",
   "execution_count": null,
   "metadata": {},
   "outputs": [],
   "source": []
  },
  {
   "cell_type": "code",
   "execution_count": null,
   "metadata": {},
   "outputs": [],
   "source": []
  }
 ],
 "metadata": {
  "kernelspec": {
   "display_name": "Python 3",
   "language": "python",
   "name": "python3"
  },
  "language_info": {
   "codemirror_mode": {
    "name": "ipython",
    "version": 3
   },
   "file_extension": ".py",
   "mimetype": "text/x-python",
   "name": "python",
   "nbconvert_exporter": "python",
   "pygments_lexer": "ipython3",
   "version": "3.7.3"
  },
  "latex_envs": {
   "LaTeX_envs_menu_present": true,
   "autoclose": false,
   "autocomplete": true,
   "bibliofile": "biblio.bib",
   "cite_by": "apalike",
   "current_citInitial": 1,
   "eqLabelWithNumbers": true,
   "eqNumInitial": 1,
   "hotkeys": {
    "equation": "Ctrl-E",
    "itemize": "Ctrl-I"
   },
   "labels_anchors": false,
   "latex_user_defs": false,
   "report_style_numbering": false,
   "user_envs_cfg": false
  },
  "toc": {
   "base_numbering": 1,
   "nav_menu": {},
   "number_sections": true,
   "sideBar": true,
   "skip_h1_title": false,
   "title_cell": "Table of Contents",
   "title_sidebar": "Contents",
   "toc_cell": false,
   "toc_position": {},
   "toc_section_display": true,
   "toc_window_display": false
  },
  "varInspector": {
   "cols": {
    "lenName": 16,
    "lenType": 16,
    "lenVar": 40
   },
   "kernels_config": {
    "python": {
     "delete_cmd_postfix": "",
     "delete_cmd_prefix": "del ",
     "library": "var_list.py",
     "varRefreshCmd": "print(var_dic_list())"
    },
    "r": {
     "delete_cmd_postfix": ") ",
     "delete_cmd_prefix": "rm(",
     "library": "var_list.r",
     "varRefreshCmd": "cat(var_dic_list()) "
    }
   },
   "types_to_exclude": [
    "module",
    "function",
    "builtin_function_or_method",
    "instance",
    "_Feature"
   ],
   "window_display": false
  }
 },
 "nbformat": 4,
 "nbformat_minor": 2
}
