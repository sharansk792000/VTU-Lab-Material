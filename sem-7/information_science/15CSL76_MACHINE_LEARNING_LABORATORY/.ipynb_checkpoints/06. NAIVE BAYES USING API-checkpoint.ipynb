{
 "cells": [
  {
   "cell_type": "code",
   "execution_count": 8,
   "metadata": {},
   "outputs": [
    {
     "name": "stdout",
     "output_type": "stream",
     "text": [
      "Total Instances of Dataset:  18\n"
     ]
    }
   ],
   "source": [
    "import pandas as pd\n",
    "msg=pd.read_csv('document.csv',names=['message','label'])\n",
    "print(\"Total Instances of Dataset: \",msg.shape[0])\n",
    "msg['labelnum']=msg.label.map({'pos':1,'neg':0})"
   ]
  },
  {
   "cell_type": "code",
   "execution_count": 9,
   "metadata": {},
   "outputs": [],
   "source": [
    "X=msg.message\n",
    "y=msg.labelnum\n",
    "from sklearn.model_selection import train_test_split\n",
    "X_train,X_test,y_train,y_test=train_test_split(X,y)\n",
    "from sklearn.feature_extraction.text import CountVectorizer\n",
    "count_v=CountVectorizer()\n",
    "X_train_dm=count_v.fit_transform(X_train)\n",
    "X_test_dm=count_v.transform(X_test)"
   ]
  },
  {
   "cell_type": "code",
   "execution_count": 10,
   "metadata": {},
   "outputs": [
    {
     "name": "stdout",
     "output_type": "stream",
     "text": [
      "   about  am  amazing  an  and  awesome  bad  beers  best  can  ...   to  \\\n",
      "0      0   0        0   0    0        0    0      0     1    0  ...    0   \n",
      "1      0   0        0   0    0        0    0      0     0    0  ...    0   \n",
      "2      0   0        1   1    0        0    0      0     0    0  ...    0   \n",
      "3      0   0        0   0    0        0    0      0     0    0  ...    0   \n",
      "4      0   0        0   1    0        1    0      0     0    0  ...    0   \n",
      "\n",
      "   today  tomorrow  very  we  went  what  will  with  work  \n",
      "0      0         0     0   0     0     0     0     0     1  \n",
      "1      0         1     0   1     0     0     1     0     0  \n",
      "2      0         0     0   0     0     0     0     0     0  \n",
      "3      0         0     0   0     0     0     0     0     0  \n",
      "4      0         0     0   0     0     0     0     0     0  \n",
      "\n",
      "[5 rows x 48 columns]\n",
      "This is my best work -> neg\n",
      "We will have good fun tomorrow -> neg\n",
      "This is an amazing place -> pos\n",
      "He is my sworn enemy -> pos\n",
      "This is an awesome place -> neg\n"
     ]
    }
   ],
   "source": [
    "df=pd.DataFrame(X_train_dm.toarray(),columns=count_v.get_feature_names())\n",
    "print(df[0:5])\n",
    "from sklearn.naive_bayes import MultinomialNB\n",
    "clf=MultinomialNB()\n",
    "clf.fit(X_train_dm,y_train)\n",
    "pred=clf.predict(X_test_dm)\n",
    "for doc,p in zip(X_train,pred):\n",
    "    p='pos' if p==1 else 'neg'\n",
    "    print(\"%s -> %s\" % (doc,p))\n",
    "    "
   ]
  },
  {
   "cell_type": "code",
   "execution_count": 11,
   "metadata": {},
   "outputs": [
    {
     "name": "stdout",
     "output_type": "stream",
     "text": [
      "Accuracy Metrics: \n",
      "\n",
      "Accuracy:  0.6\n",
      "Recall:  0.5\n",
      "Precision:  0.5\n",
      "Confusion Matrix: \n",
      " [[2 1]\n",
      " [1 1]]\n"
     ]
    }
   ],
   "source": [
    "from sklearn.metrics import accuracy_score,confusion_matrix,precision_score,recall_score\n",
    "print('Accuracy Metrics: \\n')\n",
    "print('Accuracy: ',accuracy_score(y_test,pred))\n",
    "print('Recall: ',recall_score(y_test,pred))\n",
    "print('Precision: ',precision_score(y_test,pred))\n",
    "print('Confusion Matrix: \\n',confusion_matrix(y_test,pred))"
   ]
  },
  {
   "cell_type": "code",
   "execution_count": null,
   "metadata": {},
   "outputs": [],
   "source": []
  }
 ],
 "metadata": {
  "kernelspec": {
   "display_name": "Python 3",
   "language": "python",
   "name": "python3"
  },
  "language_info": {
   "codemirror_mode": {
    "name": "ipython",
    "version": 3
   },
   "file_extension": ".py",
   "mimetype": "text/x-python",
   "name": "python",
   "nbconvert_exporter": "python",
   "pygments_lexer": "ipython3",
   "version": "3.7.3"
  },
  "latex_envs": {
   "LaTeX_envs_menu_present": true,
   "autoclose": false,
   "autocomplete": true,
   "bibliofile": "biblio.bib",
   "cite_by": "apalike",
   "current_citInitial": 1,
   "eqLabelWithNumbers": true,
   "eqNumInitial": 1,
   "hotkeys": {
    "equation": "Ctrl-E",
    "itemize": "Ctrl-I"
   },
   "labels_anchors": false,
   "latex_user_defs": false,
   "report_style_numbering": false,
   "user_envs_cfg": false
  },
  "toc": {
   "base_numbering": 1,
   "nav_menu": {},
   "number_sections": true,
   "sideBar": true,
   "skip_h1_title": false,
   "title_cell": "Table of Contents",
   "title_sidebar": "Contents",
   "toc_cell": false,
   "toc_position": {},
   "toc_section_display": true,
   "toc_window_display": false
  },
  "varInspector": {
   "cols": {
    "lenName": 16,
    "lenType": 16,
    "lenVar": 40
   },
   "kernels_config": {
    "python": {
     "delete_cmd_postfix": "",
     "delete_cmd_prefix": "del ",
     "library": "var_list.py",
     "varRefreshCmd": "print(var_dic_list())"
    },
    "r": {
     "delete_cmd_postfix": ") ",
     "delete_cmd_prefix": "rm(",
     "library": "var_list.r",
     "varRefreshCmd": "cat(var_dic_list()) "
    }
   },
   "types_to_exclude": [
    "module",
    "function",
    "builtin_function_or_method",
    "instance",
    "_Feature"
   ],
   "window_display": false
  }
 },
 "nbformat": 4,
 "nbformat_minor": 2
}
