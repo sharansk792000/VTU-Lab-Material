{
 "cells": [
  {
   "cell_type": "code",
   "execution_count": 1,
   "metadata": {
    "ExecuteTime": {
     "end_time": "2019-09-27T05:29:28.340993Z",
     "start_time": "2019-09-27T05:29:28.335532Z"
    }
   },
   "outputs": [],
   "source": [
    "import numpy as np\n",
    "X = np.array(([2, 9], [1, 5], [3, 6]), dtype=float)\n",
    "y = np.array(([92], [86], [89]), dtype=float)\n",
    "X = X / np.amax(X, axis=0)\n",
    "y = y / 100"
   ]
  },
  {
   "cell_type": "code",
   "execution_count": 2,
   "metadata": {
    "ExecuteTime": {
     "end_time": "2019-09-27T05:07:49.202889Z",
     "start_time": "2019-09-27T05:07:49.191326Z"
    }
   },
   "outputs": [],
   "source": [
    "def sigmoid(x):\n",
    "    return 1 / (1 + np.exp(-x))\n",
    "\n",
    "\n",
    "def derivatives_sigmoid(x):\n",
    "    return x * (1 - x)"
   ]
  },
  {
   "cell_type": "code",
   "execution_count": 19,
   "metadata": {
    "ExecuteTime": {
     "end_time": "2019-09-27T05:09:22.087296Z",
     "start_time": "2019-09-27T05:09:22.064228Z"
    }
   },
   "outputs": [],
   "source": [
    "epoch = 1000  #number of iterations\n",
    "learning_rate = 0.6  #learning rate eta\n",
    "inputlayer_neurons = 2  #number of neurons in input layer\n",
    "hiddenlayer_neurons = 3  #number of neurons in hidden layer\n",
    "output_neurons = 1  #number of neurons in output layer"
   ]
  },
  {
   "cell_type": "code",
   "execution_count": 20,
   "metadata": {
    "ExecuteTime": {
     "end_time": "2019-09-27T05:09:22.617714Z",
     "start_time": "2019-09-27T05:09:22.599806Z"
    }
   },
   "outputs": [],
   "source": [
    "wh = np.random.uniform(size=(inputlayer_neurons,\n",
    "                             hiddenlayer_neurons))  #wh=hidden layer weights\n",
    "bh = np.random.uniform(size=(1, hiddenlayer_neurons))  #bh=hidden layer bias\n",
    "wo = np.random.uniform(size=(hiddenlayer_neurons,\n",
    "                             output_neurons))  #wo=output layer weights\n",
    "bo = np.random.uniform(size=(1, output_neurons))  #bo=output layer bias"
   ]
  },
  {
   "cell_type": "code",
   "execution_count": 21,
   "metadata": {
    "ExecuteTime": {
     "end_time": "2019-09-27T05:09:23.117362Z",
     "start_time": "2019-09-27T05:09:23.066222Z"
    }
   },
   "outputs": [],
   "source": [
    "for i in range(epoch):\n",
    "    #Forward Propogation\n",
    "    net_h = np.dot(X, wh) + bh  #net_h=net input for hidden layer\n",
    "    sigma_h = sigmoid(net_h)  #sigma_h=output of sigmoid function of hidden layer\n",
    "    net_o = np.dot(sigma_h, wo) + bo  #net_o=net input for output layer\n",
    "    output = sigmoid(net_o)  #output= is the output of output layer i.e sigmoid of net_o\n",
    "    #Backpropagation\n",
    "    deltaK = (y - output) * derivatives_sigmoid(output)  ##calculate deltak\n",
    "    deltaH = deltaK.dot(wo.T) * derivatives_sigmoid(sigma_h)  #deltaH\n",
    "    wo = wo + sigma_h.T.dot(deltaK) * learning_rate  #Update output layer weights\n",
    "    wh = wh + X.T.dot(deltaH) * learning_rate  #Update hidden layer weights"
   ]
  },
  {
   "cell_type": "code",
   "execution_count": 22,
   "metadata": {
    "ExecuteTime": {
     "end_time": "2019-09-27T05:09:23.564207Z",
     "start_time": "2019-09-27T05:09:23.555527Z"
    }
   },
   "outputs": [
    {
     "name": "stdout",
     "output_type": "stream",
     "text": [
      "Input: \n",
      "[[0.66666667 1.        ]\n",
      " [0.33333333 0.55555556]\n",
      " [1.         0.66666667]]\n",
      "Actual Output: \n",
      "[[0.92]\n",
      " [0.86]\n",
      " [0.89]]\n",
      "Predicted Output: \n",
      " [[0.89553471]\n",
      " [0.87771128]\n",
      " [0.89621154]]\n"
     ]
    }
   ],
   "source": [
    "print(\"Input: \\n\" + str(X))\n",
    "print(\"Actual Output: \\n\" + str(y))\n",
    "print(\"Predicted Output: \\n\", output)"
   ]
  },
  {
   "cell_type": "code",
   "execution_count": null,
   "metadata": {},
   "outputs": [],
   "source": []
  }
 ],
 "metadata": {
  "kernelspec": {
   "display_name": "Python 3",
   "language": "python",
   "name": "python3"
  },
  "language_info": {
   "codemirror_mode": {
    "name": "ipython",
    "version": 3
   },
   "file_extension": ".py",
   "mimetype": "text/x-python",
   "name": "python",
   "nbconvert_exporter": "python",
   "pygments_lexer": "ipython3",
   "version": "3.7.3"
  },
  "latex_envs": {
   "LaTeX_envs_menu_present": true,
   "autoclose": false,
   "autocomplete": true,
   "bibliofile": "biblio.bib",
   "cite_by": "apalike",
   "current_citInitial": 1,
   "eqLabelWithNumbers": true,
   "eqNumInitial": 1,
   "hotkeys": {
    "equation": "Ctrl-E",
    "itemize": "Ctrl-I"
   },
   "labels_anchors": false,
   "latex_user_defs": false,
   "report_style_numbering": false,
   "user_envs_cfg": false
  },
  "toc": {
   "base_numbering": 1,
   "nav_menu": {},
   "number_sections": true,
   "sideBar": true,
   "skip_h1_title": false,
   "title_cell": "Table of Contents",
   "title_sidebar": "Contents",
   "toc_cell": false,
   "toc_position": {},
   "toc_section_display": true,
   "toc_window_display": false
  },
  "varInspector": {
   "cols": {
    "lenName": 16,
    "lenType": 16,
    "lenVar": 40
   },
   "kernels_config": {
    "python": {
     "delete_cmd_postfix": "",
     "delete_cmd_prefix": "del ",
     "library": "var_list.py",
     "varRefreshCmd": "print(var_dic_list())"
    },
    "r": {
     "delete_cmd_postfix": ") ",
     "delete_cmd_prefix": "rm(",
     "library": "var_list.r",
     "varRefreshCmd": "cat(var_dic_list()) "
    }
   },
   "types_to_exclude": [
    "module",
    "function",
    "builtin_function_or_method",
    "instance",
    "_Feature"
   ],
   "window_display": false
  }
 },
 "nbformat": 4,
 "nbformat_minor": 2
}
