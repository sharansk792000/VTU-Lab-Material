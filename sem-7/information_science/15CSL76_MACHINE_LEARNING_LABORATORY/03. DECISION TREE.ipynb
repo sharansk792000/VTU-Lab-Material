{
 "cells": [
  {
   "cell_type": "code",
   "execution_count": 1,
   "metadata": {
    "ExecuteTime": {
     "end_time": "2019-09-30T19:13:15.748285Z",
     "start_time": "2019-09-30T19:13:15.742711Z"
    }
   },
   "outputs": [],
   "source": [
    "def infoGain(P, N):  #Claculate Information gain or Class entropy\n",
    "    import math\n",
    "    return -P / (P + N) * math.log2(P / (P + N)) - N / (P + N) * math.log2(N / (P + N))"
   ]
  },
  {
   "cell_type": "code",
   "execution_count": 2,
   "metadata": {
    "ExecuteTime": {
     "end_time": "2019-09-30T19:13:16.831309Z",
     "start_time": "2019-09-30T19:13:15.758050Z"
    },
    "code_folding": []
   },
   "outputs": [],
   "source": [
    "def insertNode(tree, addTo, Node):\n",
    "    for k, v in tree.items():  #Traversal of tree\n",
    "        if isinstance(v, dict):\n",
    "            tree[k] = insertNode(v, addTo, Node)\n",
    "    if addTo in tree:  #If d is found then add Node\n",
    "        if isinstance(tree[addTo], dict):\n",
    "            tree[addTo][Node] = 'None'\n",
    "        else:\n",
    "            tree[addTo] = {Node: 'None'}\n",
    "    return tree"
   ]
  },
  {
   "cell_type": "code",
   "execution_count": 3,
   "metadata": {
    "ExecuteTime": {
     "end_time": "2019-09-30T19:13:18.064975Z",
     "start_time": "2019-09-30T19:13:16.882746Z"
    }
   },
   "outputs": [],
   "source": [
    "def insertConcept(tree, addTo, Node):\n",
    "    for k, v in tree.items():  #Traversal of tree\n",
    "        if isinstance(v, dict):\n",
    "            tree[k] = insertConcept(v, addTo, Node)\n",
    "    if addTo in tree:  #If d is found then add Node\n",
    "        tree[addTo] = Node\n",
    "    return tree"
   ]
  },
  {
   "cell_type": "code",
   "execution_count": 4,
   "metadata": {
    "ExecuteTime": {
     "end_time": "2019-09-30T19:13:19.603800Z",
     "start_time": "2019-09-30T19:13:18.105779Z"
    }
   },
   "outputs": [],
   "source": [
    "def getNextNode(data, AttributeList, concept, conceptVals, tree, addTo):\n",
    "    Total = data.shape[0]\n",
    "    if Total == 0:  #If Attibutes are empty, then return current value of tree\n",
    "        return tree\n",
    "\n",
    "    countC = {}\n",
    "    for cVal in conceptVals:  #If Example is positive then return positive and If negative then return negative\n",
    "        dataCC = data[data[concept] == cVal]  #Get data for specific concept\n",
    "        countC[cVal] = dataCC.shape[0]  #Get the count of data for specific concept\n",
    "\n",
    "    if countC[conceptVals[0]] == 0:  #If all examples are Positive(Not Negative), return single node Positive\n",
    "        tree = insertConcept(tree, addTo, conceptVals[1])\n",
    "        return tree\n",
    "    if countC[conceptVals[1]] == 0:  #If all examples are Negative (Not Positive), return single node Negative\n",
    "        tree = insertConcept(tree, addTo, conceptVals[0])\n",
    "        return tree\n",
    "\n",
    "    ClassEntropy = infoGain(countC[conceptVals[0]], countC[conceptVals[1]])  #Calculate Class Entropy for data\n",
    "\n",
    "    Attr = {}  #Attribute dict holding list of possible values\n",
    "    for a in AttributeList:\n",
    "        Attr[a] = list(set(data[a]))\n",
    "\n",
    "    AttrCount = {}  #Get the attribute values being positive and negative\n",
    "    EntropyAttr = {}  #Attribute Entropy\n",
    "    for att in Attr:\n",
    "        for vals in Attr[att]:\n",
    "            for c in conceptVals:\n",
    "                iData = data[data[att] == vals]  #Get data for specific attribute\n",
    "                dataAtt = iData[iData[concept] == c]  #Get data for specific attribute and concept\n",
    "                AttrCount[c] = dataAtt.shape[0]  #Get the count of data for specific attribute and concept\n",
    "            TotalInfo = AttrCount[conceptVals[0]] + AttrCount[conceptVals[1]]  #Total Attribute\n",
    "            if AttrCount[conceptVals[0]] == 0 or AttrCount[conceptVals[1]] == 0:\n",
    "                InfoGain = 0\n",
    "            else:\n",
    "                InfoGain = infoGain(AttrCount[conceptVals[0]], AttrCount[conceptVals[1]])  #Calculate InfoGain for each  attr\n",
    "\n",
    "            if att not in EntropyAttr:  #Calculate Entropy for each attr\n",
    "                EntropyAttr[att] = (TotalInfo / Total) * InfoGain\n",
    "            else:\n",
    "                EntropyAttr[att] = EntropyAttr[att] + (TotalInfo / Total) * InfoGain\n",
    "\n",
    "    Gain = {}\n",
    "    for g in EntropyAttr:\n",
    "        Gain[g] = ClassEntropy - EntropyAttr[g]  #Calculate gain\n",
    "\n",
    "    Node = max(Gain, key=Gain.get)  #Get root node\n",
    "\n",
    "    tree = insertNode(tree, addTo, Node)  #Add Node to tree\n",
    "    for nD in Attr[Node]:\n",
    "        tree = insertNode(tree, Node, nD)  #Insert Attribute value to tree\n",
    "        newData = data[data[Node] == nD].drop(Node, axis=1)  #Get new data with Attribute value nD and removing rows with column value Node\n",
    "        AttributeList = list(newData)[:-1]  #New Attribute List\n",
    "        tree = getNextNode(newData, AttributeList, concept, conceptVals, tree, nD)  #Call the function recursively\n",
    "    return tree"
   ]
  },
  {
   "cell_type": "code",
   "execution_count": 5,
   "metadata": {
    "ExecuteTime": {
     "end_time": "2019-09-30T19:13:33.591108Z",
     "start_time": "2019-09-30T19:13:29.411482Z"
    }
   },
   "outputs": [],
   "source": [
    "import pandas as pd\n",
    "def main():\n",
    "    data = pd.read_csv('Datasets/PlayTennis.csv')  #Read CSV\n",
    "    if 'Unnamed: 0' in data.columns:\n",
    "        data = data.drop('Unnamed: 0', axis=1)\n",
    "#     data = data.drop('slno', axis=1)\n",
    "    AttributeList = list(data)[:-1]  #Get Attribute List\n",
    "    concept = str(list(data)[-1])  #Get concept list\n",
    "    conceptVals = list(set(data[concept]))  #Get Concept values\n",
    "    tree = getNextNode(data, AttributeList, concept, conceptVals,\n",
    "                       {'root': 'None'}, 'root')\n",
    "    return tree  #Call recursive function with initial value of tree and Node as root"
   ]
  },
  {
   "cell_type": "code",
   "execution_count": 6,
   "metadata": {
    "ExecuteTime": {
     "end_time": "2019-09-30T19:13:34.887694Z",
     "start_time": "2019-09-30T19:13:33.628994Z"
    },
    "scrolled": true
   },
   "outputs": [],
   "source": [
    "tree = main()['root']"
   ]
  },
  {
   "cell_type": "code",
   "execution_count": 7,
   "metadata": {
    "ExecuteTime": {
     "end_time": "2019-09-30T19:13:38.387637Z",
     "start_time": "2019-09-30T19:13:38.360635Z"
    }
   },
   "outputs": [],
   "source": [
    "df = pd.read_csv('Datasets/PlayTennis.csv')\n",
    "\n",
    "\n",
    "def test(tree, d):\n",
    "    for k in tree:\n",
    "        for v in tree[k]:\n",
    "            if (d[k] == v and isinstance(tree[k][v], dict)):\n",
    "                test(tree[k][v], d)\n",
    "            elif (d[k] == v):\n",
    "                print(\"Classification: \" + tree[k][v])"
   ]
  },
  {
   "cell_type": "code",
   "execution_count": 8,
   "metadata": {
    "ExecuteTime": {
     "end_time": "2019-09-30T19:13:39.144734Z",
     "start_time": "2019-09-30T19:13:38.934665Z"
    },
    "scrolled": true
   },
   "outputs": [
    {
     "data": {
      "text/html": [
       "<div>\n",
       "<style scoped>\n",
       "    .dataframe tbody tr th:only-of-type {\n",
       "        vertical-align: middle;\n",
       "    }\n",
       "\n",
       "    .dataframe tbody tr th {\n",
       "        vertical-align: top;\n",
       "    }\n",
       "\n",
       "    .dataframe thead th {\n",
       "        text-align: right;\n",
       "    }\n",
       "</style>\n",
       "<table border=\"1\" class=\"dataframe\">\n",
       "  <thead>\n",
       "    <tr style=\"text-align: right;\">\n",
       "      <th></th>\n",
       "      <th>Outlook</th>\n",
       "      <th>Temperature</th>\n",
       "      <th>Humidity</th>\n",
       "      <th>Wind</th>\n",
       "      <th>PlayTennis</th>\n",
       "    </tr>\n",
       "  </thead>\n",
       "  <tbody>\n",
       "    <tr>\n",
       "      <th>0</th>\n",
       "      <td>Sunny</td>\n",
       "      <td>Hot</td>\n",
       "      <td>High</td>\n",
       "      <td>Weak</td>\n",
       "      <td>No</td>\n",
       "    </tr>\n",
       "    <tr>\n",
       "      <th>1</th>\n",
       "      <td>Sunny</td>\n",
       "      <td>Hot</td>\n",
       "      <td>High</td>\n",
       "      <td>Strong</td>\n",
       "      <td>No</td>\n",
       "    </tr>\n",
       "    <tr>\n",
       "      <th>2</th>\n",
       "      <td>Overcast</td>\n",
       "      <td>Hot</td>\n",
       "      <td>High</td>\n",
       "      <td>Weak</td>\n",
       "      <td>Yes</td>\n",
       "    </tr>\n",
       "    <tr>\n",
       "      <th>3</th>\n",
       "      <td>Rain</td>\n",
       "      <td>Mild</td>\n",
       "      <td>High</td>\n",
       "      <td>Weak</td>\n",
       "      <td>Yes</td>\n",
       "    </tr>\n",
       "    <tr>\n",
       "      <th>4</th>\n",
       "      <td>Rain</td>\n",
       "      <td>Cool</td>\n",
       "      <td>Normal</td>\n",
       "      <td>Weak</td>\n",
       "      <td>Yes</td>\n",
       "    </tr>\n",
       "  </tbody>\n",
       "</table>\n",
       "</div>"
      ],
      "text/plain": [
       "    Outlook Temperature Humidity    Wind PlayTennis\n",
       "0     Sunny         Hot     High    Weak         No\n",
       "1     Sunny         Hot     High  Strong         No\n",
       "2  Overcast         Hot     High    Weak        Yes\n",
       "3      Rain        Mild     High    Weak        Yes\n",
       "4      Rain        Cool   Normal    Weak        Yes"
      ]
     },
     "execution_count": 8,
     "metadata": {},
     "output_type": "execute_result"
    }
   ],
   "source": [
    "if 'Unnamed: 0' in df.columns:\n",
    "    df = df.drop('Unnamed: 0', axis=1)\n",
    "df.head()\n"
   ]
  },
  {
   "cell_type": "code",
   "execution_count": 9,
   "metadata": {
    "ExecuteTime": {
     "end_time": "2019-09-30T19:13:40.530878Z",
     "start_time": "2019-09-30T19:13:40.522094Z"
    }
   },
   "outputs": [
    {
     "name": "stdout",
     "output_type": "stream",
     "text": [
      "{'Outlook': {'Rain': {'Wind': {'Strong': 'No', 'Weak': 'Yes'}}, 'Sunny': {'Humidity': {'Normal': 'Yes', 'High': 'No'}}, 'Overcast': 'Yes'}}\n"
     ]
    }
   ],
   "source": [
    "print(tree)"
   ]
  },
  {
   "cell_type": "code",
   "execution_count": 10,
   "metadata": {
    "ExecuteTime": {
     "end_time": "2019-09-30T19:13:41.702869Z",
     "start_time": "2019-09-30T19:13:41.690013Z"
    }
   },
   "outputs": [
    {
     "name": "stdout",
     "output_type": "stream",
     "text": [
      "Classification: No\n"
     ]
    }
   ],
   "source": [
    "test(tree, df.loc[0, :])"
   ]
  },
  {
   "cell_type": "code",
   "execution_count": null,
   "metadata": {},
   "outputs": [],
   "source": []
  }
 ],
 "metadata": {
  "kernelspec": {
   "display_name": "Python 3",
   "language": "python",
   "name": "python3"
  },
  "language_info": {
   "codemirror_mode": {
    "name": "ipython",
    "version": 3
   },
   "file_extension": ".py",
   "mimetype": "text/x-python",
   "name": "python",
   "nbconvert_exporter": "python",
   "pygments_lexer": "ipython3",
   "version": "3.7.3"
  },
  "latex_envs": {
   "LaTeX_envs_menu_present": true,
   "autoclose": false,
   "autocomplete": true,
   "bibliofile": "biblio.bib",
   "cite_by": "apalike",
   "current_citInitial": 1,
   "eqLabelWithNumbers": true,
   "eqNumInitial": 1,
   "hotkeys": {
    "equation": "Ctrl-E",
    "itemize": "Ctrl-I"
   },
   "labels_anchors": false,
   "latex_user_defs": false,
   "report_style_numbering": false,
   "user_envs_cfg": false
  },
  "toc": {
   "base_numbering": 1,
   "nav_menu": {
    "height": "12px",
    "width": "204px"
   },
   "number_sections": true,
   "sideBar": true,
   "skip_h1_title": false,
   "title_cell": "Table of Contents",
   "title_sidebar": "Contents",
   "toc_cell": false,
   "toc_position": {},
   "toc_section_display": true,
   "toc_window_display": false
  },
  "varInspector": {
   "cols": {
    "lenName": 16,
    "lenType": 16,
    "lenVar": 40
   },
   "kernels_config": {
    "python": {
     "delete_cmd_postfix": "",
     "delete_cmd_prefix": "del ",
     "library": "var_list.py",
     "varRefreshCmd": "print(var_dic_list())"
    },
    "r": {
     "delete_cmd_postfix": ") ",
     "delete_cmd_prefix": "rm(",
     "library": "var_list.r",
     "varRefreshCmd": "cat(var_dic_list()) "
    }
   },
   "types_to_exclude": [
    "module",
    "function",
    "builtin_function_or_method",
    "instance",
    "_Feature"
   ],
   "window_display": false
  }
 },
 "nbformat": 4,
 "nbformat_minor": 2
}
